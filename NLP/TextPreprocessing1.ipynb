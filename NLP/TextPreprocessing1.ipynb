{
  "nbformat": 4,
  "nbformat_minor": 0,
  "metadata": {
    "colab": {
      "provenance": [],
      "gpuType": "T4"
    },
    "kernelspec": {
      "name": "python3",
      "display_name": "Python 3"
    },
    "language_info": {
      "name": "python"
    },
    "accelerator": "GPU"
  },
  "cells": [
    {
      "cell_type": "code",
      "execution_count": 39,
      "metadata": {
        "colab": {
          "base_uri": "https://localhost:8080/"
        },
        "id": "_51DJzDe04fj",
        "outputId": "d790164e-892c-4130-9f83-db7506831751"
      },
      "outputs": [
        {
          "output_type": "stream",
          "name": "stdout",
          "text": [
            "Requirement already satisfied: nltk in /usr/local/lib/python3.10/dist-packages (3.8.1)\n",
            "Requirement already satisfied: click in /usr/local/lib/python3.10/dist-packages (from nltk) (8.1.7)\n",
            "Requirement already satisfied: joblib in /usr/local/lib/python3.10/dist-packages (from nltk) (1.4.2)\n",
            "Requirement already satisfied: regex>=2021.8.3 in /usr/local/lib/python3.10/dist-packages (from nltk) (2024.9.11)\n",
            "Requirement already satisfied: tqdm in /usr/local/lib/python3.10/dist-packages (from nltk) (4.66.5)\n"
          ]
        }
      ],
      "source": [
        "!pip install nltk"
      ]
    },
    {
      "cell_type": "code",
      "source": [
        "paragraph=\"Siri is a spin-off from a project developed by the SRI International Artificial Intelligence Center. Its speech recognition engine was provided by Nuance Communications, and it uses advanced machine learning technologies to function. Its original American, British, and Australian voice actors recorded their respective voices around 2005, unaware of the recordings' eventual usage. Siri was released as an app for iOS in February 2010. Two months later, Apple acquired it and integrated it into the iPhone 4s at its release on 4 October 2011, removing the separate app from the iOS App Store. Siri has since been an integral part of Apple's products, having been adapted into other hardware devices including newer iPhone models, iPad, iPod Touch, Mac, AirPods, Apple TV, HomePod, and Apple Vision Pro. Siri supports a wide range of user commands, including performing phone actions, checking basic information, scheduling events and reminders, handling device settings, searching the Internet, navigating areas, finding information on entertainment, and being able to engage with iOS-integrated apps. With the release of iOS 10, in 2016, Apple opened up limited third-party access to Siri, including third-party messaging apps, as well as payments, ride-sharing, and Internet calling apps. With the release of iOS 11, Apple updated Siri's voice and added support for follow-up questions, language translation, and additional third-party actions. iOS 17 and iPadOS 17 enabled users to activate Siri by simply saying “Siri”, while the previous command, “Hey Siri”, is still supported. Siri was upgraded to using Apple Intelligence on iOS 18, iPadOS 18, and macOS Sequoia, replacing the logo.\""
      ],
      "metadata": {
        "id": "TIyx-CxV12n_"
      },
      "execution_count": 40,
      "outputs": []
    },
    {
      "cell_type": "code",
      "source": [
        "paragraph"
      ],
      "metadata": {
        "colab": {
          "base_uri": "https://localhost:8080/",
          "height": 175
        },
        "id": "tEY3QCJF2JZE",
        "outputId": "aaba17a5-15e7-481e-a650-da29b0c8dd4f"
      },
      "execution_count": 41,
      "outputs": [
        {
          "output_type": "execute_result",
          "data": {
            "text/plain": [
              "\"Siri is a spin-off from a project developed by the SRI International Artificial Intelligence Center. Its speech recognition engine was provided by Nuance Communications, and it uses advanced machine learning technologies to function. Its original American, British, and Australian voice actors recorded their respective voices around 2005, unaware of the recordings' eventual usage. Siri was released as an app for iOS in February 2010. Two months later, Apple acquired it and integrated it into the iPhone 4s at its release on 4 October 2011, removing the separate app from the iOS App Store. Siri has since been an integral part of Apple's products, having been adapted into other hardware devices including newer iPhone models, iPad, iPod Touch, Mac, AirPods, Apple TV, HomePod, and Apple Vision Pro. Siri supports a wide range of user commands, including performing phone actions, checking basic information, scheduling events and reminders, handling device settings, searching the Internet, navigating areas, finding information on entertainment, and being able to engage with iOS-integrated apps. With the release of iOS 10, in 2016, Apple opened up limited third-party access to Siri, including third-party messaging apps, as well as payments, ride-sharing, and Internet calling apps. With the release of iOS 11, Apple updated Siri's voice and added support for follow-up questions, language translation, and additional third-party actions. iOS 17 and iPadOS 17 enabled users to activate Siri by simply saying “Siri”, while the previous command, “Hey Siri”, is still supported. Siri was upgraded to using Apple Intelligence on iOS 18, iPadOS 18, and macOS Sequoia, replacing the logo.\""
            ],
            "application/vnd.google.colaboratory.intrinsic+json": {
              "type": "string"
            }
          },
          "metadata": {},
          "execution_count": 41
        }
      ]
    },
    {
      "cell_type": "code",
      "source": [
        "import nltk\n",
        "from nltk.stem import PorterStemmer\n",
        "from nltk.corpus import stopwords"
      ],
      "metadata": {
        "id": "CC--8_3T2KwF"
      },
      "execution_count": 42,
      "outputs": []
    },
    {
      "cell_type": "code",
      "source": [
        "##Tokenization: convert paragraphs / sentences to words\n",
        "nltk.download('punkt')\n",
        "sentences=nltk.sent_tokenize(paragraph) ##convert into sentences"
      ],
      "metadata": {
        "colab": {
          "base_uri": "https://localhost:8080/"
        },
        "id": "aWRTWHNm2Z4l",
        "outputId": "904a1477-1585-4d6a-f287-f38ba71eb34a"
      },
      "execution_count": 43,
      "outputs": [
        {
          "output_type": "stream",
          "name": "stderr",
          "text": [
            "[nltk_data] Downloading package punkt to /root/nltk_data...\n",
            "[nltk_data]   Package punkt is already up-to-date!\n"
          ]
        }
      ]
    },
    {
      "cell_type": "code",
      "source": [
        "sentences"
      ],
      "metadata": {
        "colab": {
          "base_uri": "https://localhost:8080/"
        },
        "id": "7JAXs74t2hkN",
        "outputId": "54a6b600-b7cb-4f47-9362-a5375e3073d9"
      },
      "execution_count": 44,
      "outputs": [
        {
          "output_type": "execute_result",
          "data": {
            "text/plain": [
              "['Siri is a spin-off from a project developed by the SRI International Artificial Intelligence Center.',\n",
              " 'Its speech recognition engine was provided by Nuance Communications, and it uses advanced machine learning technologies to function.',\n",
              " \"Its original American, British, and Australian voice actors recorded their respective voices around 2005, unaware of the recordings' eventual usage.\",\n",
              " 'Siri was released as an app for iOS in February 2010.',\n",
              " 'Two months later, Apple acquired it and integrated it into the iPhone 4s at its release on 4 October 2011, removing the separate app from the iOS App Store.',\n",
              " \"Siri has since been an integral part of Apple's products, having been adapted into other hardware devices including newer iPhone models, iPad, iPod Touch, Mac, AirPods, Apple TV, HomePod, and Apple Vision Pro.\",\n",
              " 'Siri supports a wide range of user commands, including performing phone actions, checking basic information, scheduling events and reminders, handling device settings, searching the Internet, navigating areas, finding information on entertainment, and being able to engage with iOS-integrated apps.',\n",
              " 'With the release of iOS 10, in 2016, Apple opened up limited third-party access to Siri, including third-party messaging apps, as well as payments, ride-sharing, and Internet calling apps.',\n",
              " \"With the release of iOS 11, Apple updated Siri's voice and added support for follow-up questions, language translation, and additional third-party actions.\",\n",
              " 'iOS 17 and iPadOS 17 enabled users to activate Siri by simply saying “Siri”, while the previous command, “Hey Siri”, is still supported.',\n",
              " 'Siri was upgraded to using Apple Intelligence on iOS 18, iPadOS 18, and macOS Sequoia, replacing the logo.']"
            ]
          },
          "metadata": {},
          "execution_count": 44
        }
      ]
    },
    {
      "cell_type": "code",
      "source": [
        "stemmer=PorterStemmer()\n",
        "stemmer.stem(\"history\")"
      ],
      "metadata": {
        "colab": {
          "base_uri": "https://localhost:8080/",
          "height": 36
        },
        "id": "M1DlN07T20G9",
        "outputId": "415f9bbe-fe14-476d-a8d6-021e06ded8ea"
      },
      "execution_count": 45,
      "outputs": [
        {
          "output_type": "execute_result",
          "data": {
            "text/plain": [
              "'histori'"
            ],
            "application/vnd.google.colaboratory.intrinsic+json": {
              "type": "string"
            }
          },
          "metadata": {},
          "execution_count": 45
        }
      ]
    },
    {
      "cell_type": "code",
      "source": [
        "import nltk\n",
        "nltk.download('wordnet')"
      ],
      "metadata": {
        "colab": {
          "base_uri": "https://localhost:8080/"
        },
        "id": "uK6XQOVb3qit",
        "outputId": "dec34c84-fcec-4001-f5fa-ff9b455b688e"
      },
      "execution_count": 46,
      "outputs": [
        {
          "output_type": "stream",
          "name": "stderr",
          "text": [
            "[nltk_data] Downloading package wordnet to /root/nltk_data...\n",
            "[nltk_data]   Package wordnet is already up-to-date!\n"
          ]
        },
        {
          "output_type": "execute_result",
          "data": {
            "text/plain": [
              "True"
            ]
          },
          "metadata": {},
          "execution_count": 46
        }
      ]
    },
    {
      "cell_type": "code",
      "source": [
        "from nltk.stem import WordNetLemmatizer"
      ],
      "metadata": {
        "id": "GsIMrXPW3Idm"
      },
      "execution_count": 47,
      "outputs": []
    },
    {
      "cell_type": "code",
      "source": [
        "lemmatizer=WordNetLemmatizer()\n",
        "lemmatizer.lemmatize(\"history\")"
      ],
      "metadata": {
        "colab": {
          "base_uri": "https://localhost:8080/",
          "height": 36
        },
        "id": "AiUrYgy53Skc",
        "outputId": "f7918ebc-46de-4cad-82bb-1abf72e9b823"
      },
      "execution_count": 48,
      "outputs": [
        {
          "output_type": "execute_result",
          "data": {
            "text/plain": [
              "'history'"
            ],
            "application/vnd.google.colaboratory.intrinsic+json": {
              "type": "string"
            }
          },
          "metadata": {},
          "execution_count": 48
        }
      ]
    },
    {
      "cell_type": "code",
      "source": [
        "import re\n",
        "corpus=[]\n",
        "for i in range(len(sentences)):\n",
        "    review=re.sub('[^a-zA-Z]',' ',sentences[i])\n",
        "    review=review.lower()\n",
        "    corpus.append(review)"
      ],
      "metadata": {
        "id": "5CP6JnjJ3YD0"
      },
      "execution_count": 49,
      "outputs": []
    },
    {
      "cell_type": "code",
      "source": [
        "corpus"
      ],
      "metadata": {
        "colab": {
          "base_uri": "https://localhost:8080/"
        },
        "id": "M1vm3SWD4SoP",
        "outputId": "ec8bf4e1-07a9-4795-9c0f-7798cfce5cae"
      },
      "execution_count": 50,
      "outputs": [
        {
          "output_type": "execute_result",
          "data": {
            "text/plain": [
              "['siri is a spin off from a project developed by the sri international artificial intelligence center ',\n",
              " 'its speech recognition engine was provided by nuance communications  and it uses advanced machine learning technologies to function ',\n",
              " 'its original american  british  and australian voice actors recorded their respective voices around       unaware of the recordings  eventual usage ',\n",
              " 'siri was released as an app for ios in february      ',\n",
              " 'two months later  apple acquired it and integrated it into the iphone  s at its release on   october       removing the separate app from the ios app store ',\n",
              " 'siri has since been an integral part of apple s products  having been adapted into other hardware devices including newer iphone models  ipad  ipod touch  mac  airpods  apple tv  homepod  and apple vision pro ',\n",
              " 'siri supports a wide range of user commands  including performing phone actions  checking basic information  scheduling events and reminders  handling device settings  searching the internet  navigating areas  finding information on entertainment  and being able to engage with ios integrated apps ',\n",
              " 'with the release of ios     in       apple opened up limited third party access to siri  including third party messaging apps  as well as payments  ride sharing  and internet calling apps ',\n",
              " 'with the release of ios     apple updated siri s voice and added support for follow up questions  language translation  and additional third party actions ',\n",
              " 'ios    and ipados    enabled users to activate siri by simply saying  siri   while the previous command   hey siri   is still supported ',\n",
              " 'siri was upgraded to using apple intelligence on ios     ipados     and macos sequoia  replacing the logo ']"
            ]
          },
          "metadata": {},
          "execution_count": 50
        }
      ]
    },
    {
      "cell_type": "code",
      "source": [
        "import nltk\n",
        "nltk.download('stopwords')"
      ],
      "metadata": {
        "colab": {
          "base_uri": "https://localhost:8080/"
        },
        "id": "HvJ5DMSy49Kt",
        "outputId": "e83ff955-d8ab-490b-f341-d37aa15e4f39"
      },
      "execution_count": 51,
      "outputs": [
        {
          "output_type": "stream",
          "name": "stderr",
          "text": [
            "[nltk_data] Downloading package stopwords to /root/nltk_data...\n",
            "[nltk_data]   Package stopwords is already up-to-date!\n"
          ]
        },
        {
          "output_type": "execute_result",
          "data": {
            "text/plain": [
              "True"
            ]
          },
          "metadata": {},
          "execution_count": 51
        }
      ]
    },
    {
      "cell_type": "code",
      "source": [
        "stopwords.words('english')"
      ],
      "metadata": {
        "colab": {
          "base_uri": "https://localhost:8080/"
        },
        "id": "qK-WROie5Kql",
        "outputId": "6043eed3-223e-49fd-f412-f61c0258c2f0"
      },
      "execution_count": 52,
      "outputs": [
        {
          "output_type": "execute_result",
          "data": {
            "text/plain": [
              "['i',\n",
              " 'me',\n",
              " 'my',\n",
              " 'myself',\n",
              " 'we',\n",
              " 'our',\n",
              " 'ours',\n",
              " 'ourselves',\n",
              " 'you',\n",
              " \"you're\",\n",
              " \"you've\",\n",
              " \"you'll\",\n",
              " \"you'd\",\n",
              " 'your',\n",
              " 'yours',\n",
              " 'yourself',\n",
              " 'yourselves',\n",
              " 'he',\n",
              " 'him',\n",
              " 'his',\n",
              " 'himself',\n",
              " 'she',\n",
              " \"she's\",\n",
              " 'her',\n",
              " 'hers',\n",
              " 'herself',\n",
              " 'it',\n",
              " \"it's\",\n",
              " 'its',\n",
              " 'itself',\n",
              " 'they',\n",
              " 'them',\n",
              " 'their',\n",
              " 'theirs',\n",
              " 'themselves',\n",
              " 'what',\n",
              " 'which',\n",
              " 'who',\n",
              " 'whom',\n",
              " 'this',\n",
              " 'that',\n",
              " \"that'll\",\n",
              " 'these',\n",
              " 'those',\n",
              " 'am',\n",
              " 'is',\n",
              " 'are',\n",
              " 'was',\n",
              " 'were',\n",
              " 'be',\n",
              " 'been',\n",
              " 'being',\n",
              " 'have',\n",
              " 'has',\n",
              " 'had',\n",
              " 'having',\n",
              " 'do',\n",
              " 'does',\n",
              " 'did',\n",
              " 'doing',\n",
              " 'a',\n",
              " 'an',\n",
              " 'the',\n",
              " 'and',\n",
              " 'but',\n",
              " 'if',\n",
              " 'or',\n",
              " 'because',\n",
              " 'as',\n",
              " 'until',\n",
              " 'while',\n",
              " 'of',\n",
              " 'at',\n",
              " 'by',\n",
              " 'for',\n",
              " 'with',\n",
              " 'about',\n",
              " 'against',\n",
              " 'between',\n",
              " 'into',\n",
              " 'through',\n",
              " 'during',\n",
              " 'before',\n",
              " 'after',\n",
              " 'above',\n",
              " 'below',\n",
              " 'to',\n",
              " 'from',\n",
              " 'up',\n",
              " 'down',\n",
              " 'in',\n",
              " 'out',\n",
              " 'on',\n",
              " 'off',\n",
              " 'over',\n",
              " 'under',\n",
              " 'again',\n",
              " 'further',\n",
              " 'then',\n",
              " 'once',\n",
              " 'here',\n",
              " 'there',\n",
              " 'when',\n",
              " 'where',\n",
              " 'why',\n",
              " 'how',\n",
              " 'all',\n",
              " 'any',\n",
              " 'both',\n",
              " 'each',\n",
              " 'few',\n",
              " 'more',\n",
              " 'most',\n",
              " 'other',\n",
              " 'some',\n",
              " 'such',\n",
              " 'no',\n",
              " 'nor',\n",
              " 'not',\n",
              " 'only',\n",
              " 'own',\n",
              " 'same',\n",
              " 'so',\n",
              " 'than',\n",
              " 'too',\n",
              " 'very',\n",
              " 's',\n",
              " 't',\n",
              " 'can',\n",
              " 'will',\n",
              " 'just',\n",
              " 'don',\n",
              " \"don't\",\n",
              " 'should',\n",
              " \"should've\",\n",
              " 'now',\n",
              " 'd',\n",
              " 'll',\n",
              " 'm',\n",
              " 'o',\n",
              " 're',\n",
              " 've',\n",
              " 'y',\n",
              " 'ain',\n",
              " 'aren',\n",
              " \"aren't\",\n",
              " 'couldn',\n",
              " \"couldn't\",\n",
              " 'didn',\n",
              " \"didn't\",\n",
              " 'doesn',\n",
              " \"doesn't\",\n",
              " 'hadn',\n",
              " \"hadn't\",\n",
              " 'hasn',\n",
              " \"hasn't\",\n",
              " 'haven',\n",
              " \"haven't\",\n",
              " 'isn',\n",
              " \"isn't\",\n",
              " 'ma',\n",
              " 'mightn',\n",
              " \"mightn't\",\n",
              " 'mustn',\n",
              " \"mustn't\",\n",
              " 'needn',\n",
              " \"needn't\",\n",
              " 'shan',\n",
              " \"shan't\",\n",
              " 'shouldn',\n",
              " \"shouldn't\",\n",
              " 'wasn',\n",
              " \"wasn't\",\n",
              " 'weren',\n",
              " \"weren't\",\n",
              " 'won',\n",
              " \"won't\",\n",
              " 'wouldn',\n",
              " \"wouldn't\"]"
            ]
          },
          "metadata": {},
          "execution_count": 52
        }
      ]
    },
    {
      "cell_type": "code",
      "source": [
        "#stemming\n",
        "for i in corpus:\n",
        "    words=nltk.word_tokenize(i) # convert sentences to words\n",
        "    for word in words:\n",
        "        #apply stemming to non stop words\n",
        "        if word not in set(stopwords.words('english')):\n",
        "            print(stemmer.stem(word))"
      ],
      "metadata": {
        "colab": {
          "base_uri": "https://localhost:8080/"
        },
        "id": "4ZeeRPsi4TuG",
        "outputId": "d5962725-4dd1-46f7-f910-e06418d41538"
      },
      "execution_count": 53,
      "outputs": [
        {
          "output_type": "stream",
          "name": "stdout",
          "text": [
            "siri\n",
            "spin\n",
            "project\n",
            "develop\n",
            "sri\n",
            "intern\n",
            "artifici\n",
            "intellig\n",
            "center\n",
            "speech\n",
            "recognit\n",
            "engin\n",
            "provid\n",
            "nuanc\n",
            "commun\n",
            "use\n",
            "advanc\n",
            "machin\n",
            "learn\n",
            "technolog\n",
            "function\n",
            "origin\n",
            "american\n",
            "british\n",
            "australian\n",
            "voic\n",
            "actor\n",
            "record\n",
            "respect\n",
            "voic\n",
            "around\n",
            "unawar\n",
            "record\n",
            "eventu\n",
            "usag\n",
            "siri\n",
            "releas\n",
            "app\n",
            "io\n",
            "februari\n",
            "two\n",
            "month\n",
            "later\n",
            "appl\n",
            "acquir\n",
            "integr\n",
            "iphon\n",
            "releas\n",
            "octob\n",
            "remov\n",
            "separ\n",
            "app\n",
            "io\n",
            "app\n",
            "store\n",
            "siri\n",
            "sinc\n",
            "integr\n",
            "part\n",
            "appl\n",
            "product\n",
            "adapt\n",
            "hardwar\n",
            "devic\n",
            "includ\n",
            "newer\n",
            "iphon\n",
            "model\n",
            "ipad\n",
            "ipod\n",
            "touch\n",
            "mac\n",
            "airpod\n",
            "appl\n",
            "tv\n",
            "homepod\n",
            "appl\n",
            "vision\n",
            "pro\n",
            "siri\n",
            "support\n",
            "wide\n",
            "rang\n",
            "user\n",
            "command\n",
            "includ\n",
            "perform\n",
            "phone\n",
            "action\n",
            "check\n",
            "basic\n",
            "inform\n",
            "schedul\n",
            "event\n",
            "remind\n",
            "handl\n",
            "devic\n",
            "set\n",
            "search\n",
            "internet\n",
            "navig\n",
            "area\n",
            "find\n",
            "inform\n",
            "entertain\n",
            "abl\n",
            "engag\n",
            "io\n",
            "integr\n",
            "app\n",
            "releas\n",
            "io\n",
            "appl\n",
            "open\n",
            "limit\n",
            "third\n",
            "parti\n",
            "access\n",
            "siri\n",
            "includ\n",
            "third\n",
            "parti\n",
            "messag\n",
            "app\n",
            "well\n",
            "payment\n",
            "ride\n",
            "share\n",
            "internet\n",
            "call\n",
            "app\n",
            "releas\n",
            "io\n",
            "appl\n",
            "updat\n",
            "siri\n",
            "voic\n",
            "ad\n",
            "support\n",
            "follow\n",
            "question\n",
            "languag\n",
            "translat\n",
            "addit\n",
            "third\n",
            "parti\n",
            "action\n",
            "io\n",
            "ipado\n",
            "enabl\n",
            "user\n",
            "activ\n",
            "siri\n",
            "simpli\n",
            "say\n",
            "siri\n",
            "previou\n",
            "command\n",
            "hey\n",
            "siri\n",
            "still\n",
            "support\n",
            "siri\n",
            "upgrad\n",
            "use\n",
            "appl\n",
            "intellig\n",
            "io\n",
            "ipado\n",
            "maco\n",
            "sequoia\n",
            "replac\n",
            "logo\n"
          ]
        }
      ]
    },
    {
      "cell_type": "code",
      "source": [
        "#lemmatization\n",
        "for i in corpus:\n",
        "    words=nltk.word_tokenize(i) # convert sentences to words\n",
        "    for word in words:\n",
        "        #apply lemmatization to non stop words\n",
        "        if word not in set(stopwords.words('english')):\n",
        "            print(lemmatizer.lemmatize(word))"
      ],
      "metadata": {
        "colab": {
          "base_uri": "https://localhost:8080/"
        },
        "id": "QU0p2P4746UH",
        "outputId": "d314d454-f272-41e3-a1e6-446f1dfa751a"
      },
      "execution_count": 54,
      "outputs": [
        {
          "output_type": "stream",
          "name": "stdout",
          "text": [
            "siri\n",
            "spin\n",
            "project\n",
            "developed\n",
            "sri\n",
            "international\n",
            "artificial\n",
            "intelligence\n",
            "center\n",
            "speech\n",
            "recognition\n",
            "engine\n",
            "provided\n",
            "nuance\n",
            "communication\n",
            "us\n",
            "advanced\n",
            "machine\n",
            "learning\n",
            "technology\n",
            "function\n",
            "original\n",
            "american\n",
            "british\n",
            "australian\n",
            "voice\n",
            "actor\n",
            "recorded\n",
            "respective\n",
            "voice\n",
            "around\n",
            "unaware\n",
            "recording\n",
            "eventual\n",
            "usage\n",
            "siri\n",
            "released\n",
            "app\n",
            "io\n",
            "february\n",
            "two\n",
            "month\n",
            "later\n",
            "apple\n",
            "acquired\n",
            "integrated\n",
            "iphone\n",
            "release\n",
            "october\n",
            "removing\n",
            "separate\n",
            "app\n",
            "io\n",
            "app\n",
            "store\n",
            "siri\n",
            "since\n",
            "integral\n",
            "part\n",
            "apple\n",
            "product\n",
            "adapted\n",
            "hardware\n",
            "device\n",
            "including\n",
            "newer\n",
            "iphone\n",
            "model\n",
            "ipad\n",
            "ipod\n",
            "touch\n",
            "mac\n",
            "airpods\n",
            "apple\n",
            "tv\n",
            "homepod\n",
            "apple\n",
            "vision\n",
            "pro\n",
            "siri\n",
            "support\n",
            "wide\n",
            "range\n",
            "user\n",
            "command\n",
            "including\n",
            "performing\n",
            "phone\n",
            "action\n",
            "checking\n",
            "basic\n",
            "information\n",
            "scheduling\n",
            "event\n",
            "reminder\n",
            "handling\n",
            "device\n",
            "setting\n",
            "searching\n",
            "internet\n",
            "navigating\n",
            "area\n",
            "finding\n",
            "information\n",
            "entertainment\n",
            "able\n",
            "engage\n",
            "io\n",
            "integrated\n",
            "apps\n",
            "release\n",
            "io\n",
            "apple\n",
            "opened\n",
            "limited\n",
            "third\n",
            "party\n",
            "access\n",
            "siri\n",
            "including\n",
            "third\n",
            "party\n",
            "messaging\n",
            "apps\n",
            "well\n",
            "payment\n",
            "ride\n",
            "sharing\n",
            "internet\n",
            "calling\n",
            "apps\n",
            "release\n",
            "io\n",
            "apple\n",
            "updated\n",
            "siri\n",
            "voice\n",
            "added\n",
            "support\n",
            "follow\n",
            "question\n",
            "language\n",
            "translation\n",
            "additional\n",
            "third\n",
            "party\n",
            "action\n",
            "io\n",
            "ipados\n",
            "enabled\n",
            "user\n",
            "activate\n",
            "siri\n",
            "simply\n",
            "saying\n",
            "siri\n",
            "previous\n",
            "command\n",
            "hey\n",
            "siri\n",
            "still\n",
            "supported\n",
            "siri\n",
            "upgraded\n",
            "using\n",
            "apple\n",
            "intelligence\n",
            "io\n",
            "ipados\n",
            "macos\n",
            "sequoia\n",
            "replacing\n",
            "logo\n"
          ]
        }
      ]
    },
    {
      "cell_type": "code",
      "source": [
        "sentences"
      ],
      "metadata": {
        "colab": {
          "base_uri": "https://localhost:8080/"
        },
        "id": "30saiynX8opv",
        "outputId": "2b5db3e9-9405-425f-d2d9-c3527806c8b6"
      },
      "execution_count": 61,
      "outputs": [
        {
          "output_type": "execute_result",
          "data": {
            "text/plain": [
              "['Siri is a spin-off from a project developed by the SRI International Artificial Intelligence Center.',\n",
              " 'Its speech recognition engine was provided by Nuance Communications, and it uses advanced machine learning technologies to function.',\n",
              " \"Its original American, British, and Australian voice actors recorded their respective voices around 2005, unaware of the recordings' eventual usage.\",\n",
              " 'Siri was released as an app for iOS in February 2010.',\n",
              " 'Two months later, Apple acquired it and integrated it into the iPhone 4s at its release on 4 October 2011, removing the separate app from the iOS App Store.',\n",
              " \"Siri has since been an integral part of Apple's products, having been adapted into other hardware devices including newer iPhone models, iPad, iPod Touch, Mac, AirPods, Apple TV, HomePod, and Apple Vision Pro.\",\n",
              " 'Siri supports a wide range of user commands, including performing phone actions, checking basic information, scheduling events and reminders, handling device settings, searching the Internet, navigating areas, finding information on entertainment, and being able to engage with iOS-integrated apps.',\n",
              " 'With the release of iOS 10, in 2016, Apple opened up limited third-party access to Siri, including third-party messaging apps, as well as payments, ride-sharing, and Internet calling apps.',\n",
              " \"With the release of iOS 11, Apple updated Siri's voice and added support for follow-up questions, language translation, and additional third-party actions.\",\n",
              " 'iOS 17 and iPadOS 17 enabled users to activate Siri by simply saying “Siri”, while the previous command, “Hey Siri”, is still supported.',\n",
              " 'Siri was upgraded to using Apple Intelligence on iOS 18, iPadOS 18, and macOS Sequoia, replacing the logo.']"
            ]
          },
          "metadata": {},
          "execution_count": 61
        }
      ]
    },
    {
      "cell_type": "code",
      "source": [
        "#Apply stopwords and Lemmatization\n",
        "import re\n",
        "corpus=[]\n",
        "for i in range(len(sentences)):\n",
        "    review=re.sub('[^a-zA-Z]',' ',sentences[i])\n",
        "    review=review.lower()\n",
        "    review=review.split()\n",
        "    review=[lemmatizer.lemmatize(word) for word in review if word not in set(stopwords.words('english'))]\n",
        "    review=' '.join(review)\n",
        "    corpus.append(review)"
      ],
      "metadata": {
        "id": "bsrzMAP37Iet"
      },
      "execution_count": 66,
      "outputs": []
    },
    {
      "cell_type": "code",
      "source": [
        "corpus"
      ],
      "metadata": {
        "colab": {
          "base_uri": "https://localhost:8080/"
        },
        "id": "g6-wdpj-8WZ8",
        "outputId": "4ad73617-29ae-4ed5-d6cb-18d4bace4481"
      },
      "execution_count": 67,
      "outputs": [
        {
          "output_type": "execute_result",
          "data": {
            "text/plain": [
              "['siri spin project developed sri international artificial intelligence center',\n",
              " 'speech recognition engine provided nuance communication us advanced machine learning technology function',\n",
              " 'original american british australian voice actor recorded respective voice around unaware recording eventual usage',\n",
              " 'siri released app io february',\n",
              " 'two month later apple acquired integrated iphone release october removing separate app io app store',\n",
              " 'siri since integral part apple product adapted hardware device including newer iphone model ipad ipod touch mac airpods apple tv homepod apple vision pro',\n",
              " 'siri support wide range user command including performing phone action checking basic information scheduling event reminder handling device setting searching internet navigating area finding information entertainment able engage io integrated apps',\n",
              " 'release io apple opened limited third party access siri including third party messaging apps well payment ride sharing internet calling apps',\n",
              " 'release io apple updated siri voice added support follow question language translation additional third party action',\n",
              " 'io ipados enabled user activate siri simply saying siri previous command hey siri still supported',\n",
              " 'siri upgraded using apple intelligence io ipados macos sequoia replacing logo']"
            ]
          },
          "metadata": {},
          "execution_count": 67
        }
      ]
    },
    {
      "cell_type": "code",
      "source": [
        "from sklearn.feature_extraction.text import CountVectorizer\n",
        "cv=CountVectorizer(binary=True) #binary = True for binary bag of words"
      ],
      "metadata": {
        "id": "jxUY4S2T5j8m"
      },
      "execution_count": 68,
      "outputs": []
    },
    {
      "cell_type": "code",
      "source": [
        "X=cv.fit_transform(corpus)"
      ],
      "metadata": {
        "id": "WTxDgRGX8LqV"
      },
      "execution_count": 69,
      "outputs": []
    },
    {
      "cell_type": "code",
      "source": [
        "cv.vocabulary_ #word:index format"
      ],
      "metadata": {
        "colab": {
          "base_uri": "https://localhost:8080/"
        },
        "id": "rZCDv_yJ577n",
        "outputId": "567c4b5f-4390-41d4-cd71-5786132b76f3"
      },
      "execution_count": 70,
      "outputs": [
        {
          "output_type": "execute_result",
          "data": {
            "text/plain": [
              "{'siri': 102,\n",
              " 'spin': 104,\n",
              " 'project': 79,\n",
              " 'developed': 26,\n",
              " 'sri': 105,\n",
              " 'international': 47,\n",
              " 'artificial': 17,\n",
              " 'intelligence': 46,\n",
              " 'center': 22,\n",
              " 'speech': 103,\n",
              " 'recognition': 83,\n",
              " 'engine': 30,\n",
              " 'provided': 80,\n",
              " 'nuance': 67,\n",
              " 'communication': 25,\n",
              " 'us': 119,\n",
              " 'advanced': 9,\n",
              " 'machine': 60,\n",
              " 'learning': 56,\n",
              " 'technology': 110,\n",
              " 'function': 37,\n",
              " 'original': 70,\n",
              " 'american': 11,\n",
              " 'british': 20,\n",
              " 'australian': 18,\n",
              " 'voice': 124,\n",
              " 'actor': 5,\n",
              " 'recorded': 84,\n",
              " 'respective': 91,\n",
              " 'around': 16,\n",
              " 'unaware': 116,\n",
              " 'recording': 85,\n",
              " 'eventual': 33,\n",
              " 'usage': 120,\n",
              " 'released': 87,\n",
              " 'app': 12,\n",
              " 'io': 49,\n",
              " 'february': 34,\n",
              " 'two': 115,\n",
              " 'month': 64,\n",
              " 'later': 55,\n",
              " 'apple': 13,\n",
              " 'acquired': 2,\n",
              " 'integrated': 45,\n",
              " 'iphone': 52,\n",
              " 'release': 86,\n",
              " 'october': 68,\n",
              " 'removing': 89,\n",
              " 'separate': 96,\n",
              " 'store': 107,\n",
              " 'since': 101,\n",
              " 'integral': 44,\n",
              " 'part': 71,\n",
              " 'product': 78,\n",
              " 'adapted': 6,\n",
              " 'hardware': 39,\n",
              " 'device': 27,\n",
              " 'including': 42,\n",
              " 'newer': 66,\n",
              " 'model': 63,\n",
              " 'ipad': 50,\n",
              " 'ipod': 53,\n",
              " 'touch': 112,\n",
              " 'mac': 59,\n",
              " 'airpods': 10,\n",
              " 'tv': 114,\n",
              " 'homepod': 41,\n",
              " 'vision': 123,\n",
              " 'pro': 77,\n",
              " 'support': 108,\n",
              " 'wide': 126,\n",
              " 'range': 82,\n",
              " 'user': 121,\n",
              " 'command': 24,\n",
              " 'performing': 74,\n",
              " 'phone': 75,\n",
              " 'action': 3,\n",
              " 'checking': 23,\n",
              " 'basic': 19,\n",
              " 'information': 43,\n",
              " 'scheduling': 94,\n",
              " 'event': 32,\n",
              " 'reminder': 88,\n",
              " 'handling': 38,\n",
              " 'setting': 98,\n",
              " 'searching': 95,\n",
              " 'internet': 48,\n",
              " 'navigating': 65,\n",
              " 'area': 15,\n",
              " 'finding': 35,\n",
              " 'entertainment': 31,\n",
              " 'able': 0,\n",
              " 'engage': 29,\n",
              " 'apps': 14,\n",
              " 'opened': 69,\n",
              " 'limited': 57,\n",
              " 'third': 111,\n",
              " 'party': 72,\n",
              " 'access': 1,\n",
              " 'messaging': 62,\n",
              " 'well': 125,\n",
              " 'payment': 73,\n",
              " 'ride': 92,\n",
              " 'sharing': 99,\n",
              " 'calling': 21,\n",
              " 'updated': 117,\n",
              " 'added': 7,\n",
              " 'follow': 36,\n",
              " 'question': 81,\n",
              " 'language': 54,\n",
              " 'translation': 113,\n",
              " 'additional': 8,\n",
              " 'ipados': 51,\n",
              " 'enabled': 28,\n",
              " 'activate': 4,\n",
              " 'simply': 100,\n",
              " 'saying': 93,\n",
              " 'previous': 76,\n",
              " 'hey': 40,\n",
              " 'still': 106,\n",
              " 'supported': 109,\n",
              " 'upgraded': 118,\n",
              " 'using': 122,\n",
              " 'macos': 61,\n",
              " 'sequoia': 97,\n",
              " 'replacing': 90,\n",
              " 'logo': 58}"
            ]
          },
          "metadata": {},
          "execution_count": 70
        }
      ]
    },
    {
      "cell_type": "code",
      "source": [
        "corpus[0]"
      ],
      "metadata": {
        "colab": {
          "base_uri": "https://localhost:8080/",
          "height": 36
        },
        "id": "ghGyrJI06EFW",
        "outputId": "53b72a39-106c-4232-9988-d81808b1e1a8"
      },
      "execution_count": 71,
      "outputs": [
        {
          "output_type": "execute_result",
          "data": {
            "text/plain": [
              "'siri spin project developed sri international artificial intelligence center'"
            ],
            "application/vnd.google.colaboratory.intrinsic+json": {
              "type": "string"
            }
          },
          "metadata": {},
          "execution_count": 71
        }
      ]
    },
    {
      "cell_type": "code",
      "source": [
        "X[0].toarray()"
      ],
      "metadata": {
        "colab": {
          "base_uri": "https://localhost:8080/"
        },
        "id": "JCEUrNsu6bUN",
        "outputId": "71abb003-f892-48b6-977f-d88d028a8513"
      },
      "execution_count": 72,
      "outputs": [
        {
          "output_type": "execute_result",
          "data": {
            "text/plain": [
              "array([[0, 0, 0, 0, 0, 0, 0, 0, 0, 0, 0, 0, 0, 0, 0, 0, 0, 1, 0, 0, 0, 0,\n",
              "        1, 0, 0, 0, 1, 0, 0, 0, 0, 0, 0, 0, 0, 0, 0, 0, 0, 0, 0, 0, 0, 0,\n",
              "        0, 0, 1, 1, 0, 0, 0, 0, 0, 0, 0, 0, 0, 0, 0, 0, 0, 0, 0, 0, 0, 0,\n",
              "        0, 0, 0, 0, 0, 0, 0, 0, 0, 0, 0, 0, 0, 1, 0, 0, 0, 0, 0, 0, 0, 0,\n",
              "        0, 0, 0, 0, 0, 0, 0, 0, 0, 0, 0, 0, 0, 0, 1, 0, 1, 1, 0, 0, 0, 0,\n",
              "        0, 0, 0, 0, 0, 0, 0, 0, 0, 0, 0, 0, 0, 0, 0, 0, 0]])"
            ]
          },
          "metadata": {},
          "execution_count": 72
        }
      ]
    },
    {
      "cell_type": "code",
      "source": [],
      "metadata": {
        "id": "jQSVMauA6fq9"
      },
      "execution_count": null,
      "outputs": []
    }
  ]
}